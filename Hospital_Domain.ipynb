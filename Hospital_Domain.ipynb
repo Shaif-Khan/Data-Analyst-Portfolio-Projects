{
 "cells": [
  {
   "cell_type": "code",
   "execution_count": 1,
   "id": "040084cd-813b-4f95-9603-6ca286a48fc9",
   "metadata": {},
   "outputs": [],
   "source": [
    "import pandas as pd\n",
    "import matplotlib.pyplot as plt\n",
    "import seaborn as sns"
   ]
  },
  {
   "cell_type": "code",
   "execution_count": 2,
   "id": "4e5bb5bd-5bab-4667-94d9-143bd1c4ccf4",
   "metadata": {},
   "outputs": [],
   "source": [
    "df=pd.read_csv(r\"C:\\Users\\mdfai\\Downloads\\Hospital ER_Data.csv\")"
   ]
  },
  {
   "cell_type": "code",
   "execution_count": 3,
   "id": "cab46dcb-ca97-4548-9607-6d8121530cea",
   "metadata": {},
   "outputs": [
    {
     "data": {
      "text/html": [
       "<div>\n",
       "<style scoped>\n",
       "    .dataframe tbody tr th:only-of-type {\n",
       "        vertical-align: middle;\n",
       "    }\n",
       "\n",
       "    .dataframe tbody tr th {\n",
       "        vertical-align: top;\n",
       "    }\n",
       "\n",
       "    .dataframe thead th {\n",
       "        text-align: right;\n",
       "    }\n",
       "</style>\n",
       "<table border=\"1\" class=\"dataframe\">\n",
       "  <thead>\n",
       "    <tr style=\"text-align: right;\">\n",
       "      <th></th>\n",
       "      <th>Patient Id</th>\n",
       "      <th>Patient Admission Date</th>\n",
       "      <th>Patient First Inital</th>\n",
       "      <th>Patient Last Name</th>\n",
       "      <th>Patient Gender</th>\n",
       "      <th>Patient Age</th>\n",
       "      <th>Patient Race</th>\n",
       "      <th>Department Referral</th>\n",
       "      <th>Patient Admission Flag</th>\n",
       "      <th>Patient Satisfaction Score</th>\n",
       "      <th>Patient Waittime</th>\n",
       "      <th>Patients CM</th>\n",
       "    </tr>\n",
       "  </thead>\n",
       "  <tbody>\n",
       "    <tr>\n",
       "      <th>0</th>\n",
       "      <td>145-39-5406</td>\n",
       "      <td>20-03-2024 08:47</td>\n",
       "      <td>H</td>\n",
       "      <td>Glasspool</td>\n",
       "      <td>M</td>\n",
       "      <td>69</td>\n",
       "      <td>White</td>\n",
       "      <td>NaN</td>\n",
       "      <td>False</td>\n",
       "      <td>10.0</td>\n",
       "      <td>39</td>\n",
       "      <td>0</td>\n",
       "    </tr>\n",
       "    <tr>\n",
       "      <th>1</th>\n",
       "      <td>316-34-3057</td>\n",
       "      <td>15-06-2024 11:29</td>\n",
       "      <td>X</td>\n",
       "      <td>Methuen</td>\n",
       "      <td>M</td>\n",
       "      <td>4</td>\n",
       "      <td>Native American/Alaska Native</td>\n",
       "      <td>NaN</td>\n",
       "      <td>True</td>\n",
       "      <td>NaN</td>\n",
       "      <td>27</td>\n",
       "      <td>0</td>\n",
       "    </tr>\n",
       "    <tr>\n",
       "      <th>2</th>\n",
       "      <td>897-46-3852</td>\n",
       "      <td>20-06-2024 09:13</td>\n",
       "      <td>P</td>\n",
       "      <td>Schubuser</td>\n",
       "      <td>F</td>\n",
       "      <td>56</td>\n",
       "      <td>African American</td>\n",
       "      <td>General Practice</td>\n",
       "      <td>True</td>\n",
       "      <td>9.0</td>\n",
       "      <td>55</td>\n",
       "      <td>0</td>\n",
       "    </tr>\n",
       "    <tr>\n",
       "      <th>3</th>\n",
       "      <td>358-31-9711</td>\n",
       "      <td>04-02-2024 22:34</td>\n",
       "      <td>U</td>\n",
       "      <td>Titcombe</td>\n",
       "      <td>F</td>\n",
       "      <td>24</td>\n",
       "      <td>Native American/Alaska Native</td>\n",
       "      <td>General Practice</td>\n",
       "      <td>True</td>\n",
       "      <td>8.0</td>\n",
       "      <td>31</td>\n",
       "      <td>0</td>\n",
       "    </tr>\n",
       "    <tr>\n",
       "      <th>4</th>\n",
       "      <td>289-26-0537</td>\n",
       "      <td>04-09-2024 17:48</td>\n",
       "      <td>Y</td>\n",
       "      <td>Gionettitti</td>\n",
       "      <td>M</td>\n",
       "      <td>5</td>\n",
       "      <td>African American</td>\n",
       "      <td>Orthopedics</td>\n",
       "      <td>False</td>\n",
       "      <td>NaN</td>\n",
       "      <td>10</td>\n",
       "      <td>0</td>\n",
       "    </tr>\n",
       "    <tr>\n",
       "      <th>...</th>\n",
       "      <td>...</td>\n",
       "      <td>...</td>\n",
       "      <td>...</td>\n",
       "      <td>...</td>\n",
       "      <td>...</td>\n",
       "      <td>...</td>\n",
       "      <td>...</td>\n",
       "      <td>...</td>\n",
       "      <td>...</td>\n",
       "      <td>...</td>\n",
       "      <td>...</td>\n",
       "      <td>...</td>\n",
       "    </tr>\n",
       "    <tr>\n",
       "      <th>9211</th>\n",
       "      <td>313-21-4953</td>\n",
       "      <td>28-08-2024 17:38</td>\n",
       "      <td>J</td>\n",
       "      <td>Spradbrow</td>\n",
       "      <td>NC</td>\n",
       "      <td>42</td>\n",
       "      <td>Asian</td>\n",
       "      <td>General Practice</td>\n",
       "      <td>True</td>\n",
       "      <td>NaN</td>\n",
       "      <td>43</td>\n",
       "      <td>0</td>\n",
       "    </tr>\n",
       "    <tr>\n",
       "      <th>9212</th>\n",
       "      <td>226-92-3412</td>\n",
       "      <td>28-06-2024 23:12</td>\n",
       "      <td>G</td>\n",
       "      <td>Antoniak</td>\n",
       "      <td>NC</td>\n",
       "      <td>19</td>\n",
       "      <td>Asian</td>\n",
       "      <td>NaN</td>\n",
       "      <td>True</td>\n",
       "      <td>NaN</td>\n",
       "      <td>49</td>\n",
       "      <td>0</td>\n",
       "    </tr>\n",
       "    <tr>\n",
       "      <th>9213</th>\n",
       "      <td>412-85-3832</td>\n",
       "      <td>16-05-2024 17:06</td>\n",
       "      <td>V</td>\n",
       "      <td>Riccardo</td>\n",
       "      <td>NC</td>\n",
       "      <td>14</td>\n",
       "      <td>Asian</td>\n",
       "      <td>NaN</td>\n",
       "      <td>True</td>\n",
       "      <td>NaN</td>\n",
       "      <td>36</td>\n",
       "      <td>0</td>\n",
       "    </tr>\n",
       "    <tr>\n",
       "      <th>9214</th>\n",
       "      <td>708-91-2439</td>\n",
       "      <td>14-05-2024 23:43</td>\n",
       "      <td>S</td>\n",
       "      <td>Renals</td>\n",
       "      <td>NC</td>\n",
       "      <td>73</td>\n",
       "      <td>Declined to Identify</td>\n",
       "      <td>General Practice</td>\n",
       "      <td>True</td>\n",
       "      <td>1.0</td>\n",
       "      <td>38</td>\n",
       "      <td>0</td>\n",
       "    </tr>\n",
       "    <tr>\n",
       "      <th>9215</th>\n",
       "      <td>249-47-9666</td>\n",
       "      <td>01-03-2024 08:50</td>\n",
       "      <td>Y</td>\n",
       "      <td>Greep</td>\n",
       "      <td>NC</td>\n",
       "      <td>35</td>\n",
       "      <td>White</td>\n",
       "      <td>General Practice</td>\n",
       "      <td>True</td>\n",
       "      <td>NaN</td>\n",
       "      <td>39</td>\n",
       "      <td>0</td>\n",
       "    </tr>\n",
       "  </tbody>\n",
       "</table>\n",
       "<p>9216 rows × 12 columns</p>\n",
       "</div>"
      ],
      "text/plain": [
       "       Patient Id Patient Admission Date Patient First Inital  \\\n",
       "0     145-39-5406       20-03-2024 08:47                    H   \n",
       "1     316-34-3057       15-06-2024 11:29                    X   \n",
       "2     897-46-3852       20-06-2024 09:13                    P   \n",
       "3     358-31-9711       04-02-2024 22:34                    U   \n",
       "4     289-26-0537       04-09-2024 17:48                    Y   \n",
       "...           ...                    ...                  ...   \n",
       "9211  313-21-4953       28-08-2024 17:38                    J   \n",
       "9212  226-92-3412       28-06-2024 23:12                    G   \n",
       "9213  412-85-3832       16-05-2024 17:06                    V   \n",
       "9214  708-91-2439       14-05-2024 23:43                    S   \n",
       "9215  249-47-9666       01-03-2024 08:50                    Y   \n",
       "\n",
       "     Patient Last Name Patient Gender  Patient Age  \\\n",
       "0            Glasspool              M           69   \n",
       "1              Methuen              M            4   \n",
       "2            Schubuser              F           56   \n",
       "3             Titcombe              F           24   \n",
       "4          Gionettitti              M            5   \n",
       "...                ...            ...          ...   \n",
       "9211         Spradbrow             NC           42   \n",
       "9212          Antoniak             NC           19   \n",
       "9213          Riccardo             NC           14   \n",
       "9214            Renals             NC           73   \n",
       "9215             Greep             NC           35   \n",
       "\n",
       "                       Patient Race Department Referral  \\\n",
       "0                             White                 NaN   \n",
       "1     Native American/Alaska Native                 NaN   \n",
       "2                  African American    General Practice   \n",
       "3     Native American/Alaska Native    General Practice   \n",
       "4                  African American         Orthopedics   \n",
       "...                             ...                 ...   \n",
       "9211                          Asian    General Practice   \n",
       "9212                          Asian                 NaN   \n",
       "9213                          Asian                 NaN   \n",
       "9214           Declined to Identify    General Practice   \n",
       "9215                          White    General Practice   \n",
       "\n",
       "      Patient Admission Flag  Patient Satisfaction Score  Patient Waittime  \\\n",
       "0                      False                        10.0                39   \n",
       "1                       True                         NaN                27   \n",
       "2                       True                         9.0                55   \n",
       "3                       True                         8.0                31   \n",
       "4                      False                         NaN                10   \n",
       "...                      ...                         ...               ...   \n",
       "9211                    True                         NaN                43   \n",
       "9212                    True                         NaN                49   \n",
       "9213                    True                         NaN                36   \n",
       "9214                    True                         1.0                38   \n",
       "9215                    True                         NaN                39   \n",
       "\n",
       "      Patients CM  \n",
       "0               0  \n",
       "1               0  \n",
       "2               0  \n",
       "3               0  \n",
       "4               0  \n",
       "...           ...  \n",
       "9211            0  \n",
       "9212            0  \n",
       "9213            0  \n",
       "9214            0  \n",
       "9215            0  \n",
       "\n",
       "[9216 rows x 12 columns]"
      ]
     },
     "execution_count": 3,
     "metadata": {},
     "output_type": "execute_result"
    }
   ],
   "source": [
    "df"
   ]
  },
  {
   "cell_type": "code",
   "execution_count": 4,
   "id": "5f025ed0-ec16-48f8-a21e-1e1c552b3edc",
   "metadata": {},
   "outputs": [
    {
     "data": {
      "text/html": [
       "<div>\n",
       "<style scoped>\n",
       "    .dataframe tbody tr th:only-of-type {\n",
       "        vertical-align: middle;\n",
       "    }\n",
       "\n",
       "    .dataframe tbody tr th {\n",
       "        vertical-align: top;\n",
       "    }\n",
       "\n",
       "    .dataframe thead th {\n",
       "        text-align: right;\n",
       "    }\n",
       "</style>\n",
       "<table border=\"1\" class=\"dataframe\">\n",
       "  <thead>\n",
       "    <tr style=\"text-align: right;\">\n",
       "      <th></th>\n",
       "      <th>Patient Id</th>\n",
       "      <th>Patient Admission Date</th>\n",
       "      <th>Patient First Inital</th>\n",
       "      <th>Patient Last Name</th>\n",
       "      <th>Patient Gender</th>\n",
       "      <th>Patient Age</th>\n",
       "      <th>Patient Race</th>\n",
       "      <th>Department Referral</th>\n",
       "      <th>Patient Admission Flag</th>\n",
       "      <th>Patient Satisfaction Score</th>\n",
       "      <th>Patient Waittime</th>\n",
       "      <th>Patients CM</th>\n",
       "    </tr>\n",
       "  </thead>\n",
       "  <tbody>\n",
       "    <tr>\n",
       "      <th>0</th>\n",
       "      <td>145-39-5406</td>\n",
       "      <td>20-03-2024 08:47</td>\n",
       "      <td>H</td>\n",
       "      <td>Glasspool</td>\n",
       "      <td>M</td>\n",
       "      <td>69</td>\n",
       "      <td>White</td>\n",
       "      <td>NaN</td>\n",
       "      <td>False</td>\n",
       "      <td>10.0</td>\n",
       "      <td>39</td>\n",
       "      <td>0</td>\n",
       "    </tr>\n",
       "    <tr>\n",
       "      <th>1</th>\n",
       "      <td>316-34-3057</td>\n",
       "      <td>15-06-2024 11:29</td>\n",
       "      <td>X</td>\n",
       "      <td>Methuen</td>\n",
       "      <td>M</td>\n",
       "      <td>4</td>\n",
       "      <td>Native American/Alaska Native</td>\n",
       "      <td>NaN</td>\n",
       "      <td>True</td>\n",
       "      <td>NaN</td>\n",
       "      <td>27</td>\n",
       "      <td>0</td>\n",
       "    </tr>\n",
       "    <tr>\n",
       "      <th>2</th>\n",
       "      <td>897-46-3852</td>\n",
       "      <td>20-06-2024 09:13</td>\n",
       "      <td>P</td>\n",
       "      <td>Schubuser</td>\n",
       "      <td>F</td>\n",
       "      <td>56</td>\n",
       "      <td>African American</td>\n",
       "      <td>General Practice</td>\n",
       "      <td>True</td>\n",
       "      <td>9.0</td>\n",
       "      <td>55</td>\n",
       "      <td>0</td>\n",
       "    </tr>\n",
       "    <tr>\n",
       "      <th>3</th>\n",
       "      <td>358-31-9711</td>\n",
       "      <td>04-02-2024 22:34</td>\n",
       "      <td>U</td>\n",
       "      <td>Titcombe</td>\n",
       "      <td>F</td>\n",
       "      <td>24</td>\n",
       "      <td>Native American/Alaska Native</td>\n",
       "      <td>General Practice</td>\n",
       "      <td>True</td>\n",
       "      <td>8.0</td>\n",
       "      <td>31</td>\n",
       "      <td>0</td>\n",
       "    </tr>\n",
       "    <tr>\n",
       "      <th>4</th>\n",
       "      <td>289-26-0537</td>\n",
       "      <td>04-09-2024 17:48</td>\n",
       "      <td>Y</td>\n",
       "      <td>Gionettitti</td>\n",
       "      <td>M</td>\n",
       "      <td>5</td>\n",
       "      <td>African American</td>\n",
       "      <td>Orthopedics</td>\n",
       "      <td>False</td>\n",
       "      <td>NaN</td>\n",
       "      <td>10</td>\n",
       "      <td>0</td>\n",
       "    </tr>\n",
       "  </tbody>\n",
       "</table>\n",
       "</div>"
      ],
      "text/plain": [
       "    Patient Id Patient Admission Date Patient First Inital Patient Last Name  \\\n",
       "0  145-39-5406       20-03-2024 08:47                    H         Glasspool   \n",
       "1  316-34-3057       15-06-2024 11:29                    X           Methuen   \n",
       "2  897-46-3852       20-06-2024 09:13                    P         Schubuser   \n",
       "3  358-31-9711       04-02-2024 22:34                    U          Titcombe   \n",
       "4  289-26-0537       04-09-2024 17:48                    Y       Gionettitti   \n",
       "\n",
       "  Patient Gender  Patient Age                   Patient Race  \\\n",
       "0              M           69                          White   \n",
       "1              M            4  Native American/Alaska Native   \n",
       "2              F           56               African American   \n",
       "3              F           24  Native American/Alaska Native   \n",
       "4              M            5               African American   \n",
       "\n",
       "  Department Referral  Patient Admission Flag  Patient Satisfaction Score  \\\n",
       "0                 NaN                   False                        10.0   \n",
       "1                 NaN                    True                         NaN   \n",
       "2    General Practice                    True                         9.0   \n",
       "3    General Practice                    True                         8.0   \n",
       "4         Orthopedics                   False                         NaN   \n",
       "\n",
       "   Patient Waittime  Patients CM  \n",
       "0                39            0  \n",
       "1                27            0  \n",
       "2                55            0  \n",
       "3                31            0  \n",
       "4                10            0  "
      ]
     },
     "execution_count": 4,
     "metadata": {},
     "output_type": "execute_result"
    }
   ],
   "source": [
    "df.head()"
   ]
  },
  {
   "cell_type": "code",
   "execution_count": 5,
   "id": "f0870fce-7e37-4acc-a51f-f2e09fe8cdd6",
   "metadata": {},
   "outputs": [
    {
     "data": {
      "text/html": [
       "<div>\n",
       "<style scoped>\n",
       "    .dataframe tbody tr th:only-of-type {\n",
       "        vertical-align: middle;\n",
       "    }\n",
       "\n",
       "    .dataframe tbody tr th {\n",
       "        vertical-align: top;\n",
       "    }\n",
       "\n",
       "    .dataframe thead th {\n",
       "        text-align: right;\n",
       "    }\n",
       "</style>\n",
       "<table border=\"1\" class=\"dataframe\">\n",
       "  <thead>\n",
       "    <tr style=\"text-align: right;\">\n",
       "      <th></th>\n",
       "      <th>Patient Id</th>\n",
       "      <th>Patient Admission Date</th>\n",
       "      <th>Patient First Inital</th>\n",
       "      <th>Patient Last Name</th>\n",
       "      <th>Patient Gender</th>\n",
       "      <th>Patient Age</th>\n",
       "      <th>Patient Race</th>\n",
       "      <th>Department Referral</th>\n",
       "      <th>Patient Admission Flag</th>\n",
       "      <th>Patient Satisfaction Score</th>\n",
       "      <th>Patient Waittime</th>\n",
       "      <th>Patients CM</th>\n",
       "    </tr>\n",
       "  </thead>\n",
       "  <tbody>\n",
       "    <tr>\n",
       "      <th>9211</th>\n",
       "      <td>313-21-4953</td>\n",
       "      <td>28-08-2024 17:38</td>\n",
       "      <td>J</td>\n",
       "      <td>Spradbrow</td>\n",
       "      <td>NC</td>\n",
       "      <td>42</td>\n",
       "      <td>Asian</td>\n",
       "      <td>General Practice</td>\n",
       "      <td>True</td>\n",
       "      <td>NaN</td>\n",
       "      <td>43</td>\n",
       "      <td>0</td>\n",
       "    </tr>\n",
       "    <tr>\n",
       "      <th>9212</th>\n",
       "      <td>226-92-3412</td>\n",
       "      <td>28-06-2024 23:12</td>\n",
       "      <td>G</td>\n",
       "      <td>Antoniak</td>\n",
       "      <td>NC</td>\n",
       "      <td>19</td>\n",
       "      <td>Asian</td>\n",
       "      <td>NaN</td>\n",
       "      <td>True</td>\n",
       "      <td>NaN</td>\n",
       "      <td>49</td>\n",
       "      <td>0</td>\n",
       "    </tr>\n",
       "    <tr>\n",
       "      <th>9213</th>\n",
       "      <td>412-85-3832</td>\n",
       "      <td>16-05-2024 17:06</td>\n",
       "      <td>V</td>\n",
       "      <td>Riccardo</td>\n",
       "      <td>NC</td>\n",
       "      <td>14</td>\n",
       "      <td>Asian</td>\n",
       "      <td>NaN</td>\n",
       "      <td>True</td>\n",
       "      <td>NaN</td>\n",
       "      <td>36</td>\n",
       "      <td>0</td>\n",
       "    </tr>\n",
       "    <tr>\n",
       "      <th>9214</th>\n",
       "      <td>708-91-2439</td>\n",
       "      <td>14-05-2024 23:43</td>\n",
       "      <td>S</td>\n",
       "      <td>Renals</td>\n",
       "      <td>NC</td>\n",
       "      <td>73</td>\n",
       "      <td>Declined to Identify</td>\n",
       "      <td>General Practice</td>\n",
       "      <td>True</td>\n",
       "      <td>1.0</td>\n",
       "      <td>38</td>\n",
       "      <td>0</td>\n",
       "    </tr>\n",
       "    <tr>\n",
       "      <th>9215</th>\n",
       "      <td>249-47-9666</td>\n",
       "      <td>01-03-2024 08:50</td>\n",
       "      <td>Y</td>\n",
       "      <td>Greep</td>\n",
       "      <td>NC</td>\n",
       "      <td>35</td>\n",
       "      <td>White</td>\n",
       "      <td>General Practice</td>\n",
       "      <td>True</td>\n",
       "      <td>NaN</td>\n",
       "      <td>39</td>\n",
       "      <td>0</td>\n",
       "    </tr>\n",
       "  </tbody>\n",
       "</table>\n",
       "</div>"
      ],
      "text/plain": [
       "       Patient Id Patient Admission Date Patient First Inital  \\\n",
       "9211  313-21-4953       28-08-2024 17:38                    J   \n",
       "9212  226-92-3412       28-06-2024 23:12                    G   \n",
       "9213  412-85-3832       16-05-2024 17:06                    V   \n",
       "9214  708-91-2439       14-05-2024 23:43                    S   \n",
       "9215  249-47-9666       01-03-2024 08:50                    Y   \n",
       "\n",
       "     Patient Last Name Patient Gender  Patient Age          Patient Race  \\\n",
       "9211         Spradbrow             NC           42                 Asian   \n",
       "9212          Antoniak             NC           19                 Asian   \n",
       "9213          Riccardo             NC           14                 Asian   \n",
       "9214            Renals             NC           73  Declined to Identify   \n",
       "9215             Greep             NC           35                 White   \n",
       "\n",
       "     Department Referral  Patient Admission Flag  Patient Satisfaction Score  \\\n",
       "9211    General Practice                    True                         NaN   \n",
       "9212                 NaN                    True                         NaN   \n",
       "9213                 NaN                    True                         NaN   \n",
       "9214    General Practice                    True                         1.0   \n",
       "9215    General Practice                    True                         NaN   \n",
       "\n",
       "      Patient Waittime  Patients CM  \n",
       "9211                43            0  \n",
       "9212                49            0  \n",
       "9213                36            0  \n",
       "9214                38            0  \n",
       "9215                39            0  "
      ]
     },
     "execution_count": 5,
     "metadata": {},
     "output_type": "execute_result"
    }
   ],
   "source": [
    "df.tail()"
   ]
  },
  {
   "cell_type": "code",
   "execution_count": 6,
   "id": "b3b3e0e6-e4aa-4000-88b7-1bd1d7e81078",
   "metadata": {},
   "outputs": [
    {
     "data": {
      "text/html": [
       "<div>\n",
       "<style scoped>\n",
       "    .dataframe tbody tr th:only-of-type {\n",
       "        vertical-align: middle;\n",
       "    }\n",
       "\n",
       "    .dataframe tbody tr th {\n",
       "        vertical-align: top;\n",
       "    }\n",
       "\n",
       "    .dataframe thead th {\n",
       "        text-align: right;\n",
       "    }\n",
       "</style>\n",
       "<table border=\"1\" class=\"dataframe\">\n",
       "  <thead>\n",
       "    <tr style=\"text-align: right;\">\n",
       "      <th></th>\n",
       "      <th>Patient Id</th>\n",
       "      <th>Patient Admission Date</th>\n",
       "      <th>Patient First Inital</th>\n",
       "      <th>Patient Last Name</th>\n",
       "      <th>Patient Gender</th>\n",
       "      <th>Patient Age</th>\n",
       "      <th>Patient Race</th>\n",
       "      <th>Department Referral</th>\n",
       "      <th>Patient Admission Flag</th>\n",
       "      <th>Patient Satisfaction Score</th>\n",
       "      <th>Patient Waittime</th>\n",
       "      <th>Patients CM</th>\n",
       "    </tr>\n",
       "  </thead>\n",
       "  <tbody>\n",
       "    <tr>\n",
       "      <th>0</th>\n",
       "      <td>False</td>\n",
       "      <td>False</td>\n",
       "      <td>False</td>\n",
       "      <td>False</td>\n",
       "      <td>False</td>\n",
       "      <td>False</td>\n",
       "      <td>False</td>\n",
       "      <td>True</td>\n",
       "      <td>False</td>\n",
       "      <td>False</td>\n",
       "      <td>False</td>\n",
       "      <td>False</td>\n",
       "    </tr>\n",
       "    <tr>\n",
       "      <th>1</th>\n",
       "      <td>False</td>\n",
       "      <td>False</td>\n",
       "      <td>False</td>\n",
       "      <td>False</td>\n",
       "      <td>False</td>\n",
       "      <td>False</td>\n",
       "      <td>False</td>\n",
       "      <td>True</td>\n",
       "      <td>False</td>\n",
       "      <td>True</td>\n",
       "      <td>False</td>\n",
       "      <td>False</td>\n",
       "    </tr>\n",
       "    <tr>\n",
       "      <th>2</th>\n",
       "      <td>False</td>\n",
       "      <td>False</td>\n",
       "      <td>False</td>\n",
       "      <td>False</td>\n",
       "      <td>False</td>\n",
       "      <td>False</td>\n",
       "      <td>False</td>\n",
       "      <td>False</td>\n",
       "      <td>False</td>\n",
       "      <td>False</td>\n",
       "      <td>False</td>\n",
       "      <td>False</td>\n",
       "    </tr>\n",
       "    <tr>\n",
       "      <th>3</th>\n",
       "      <td>False</td>\n",
       "      <td>False</td>\n",
       "      <td>False</td>\n",
       "      <td>False</td>\n",
       "      <td>False</td>\n",
       "      <td>False</td>\n",
       "      <td>False</td>\n",
       "      <td>False</td>\n",
       "      <td>False</td>\n",
       "      <td>False</td>\n",
       "      <td>False</td>\n",
       "      <td>False</td>\n",
       "    </tr>\n",
       "    <tr>\n",
       "      <th>4</th>\n",
       "      <td>False</td>\n",
       "      <td>False</td>\n",
       "      <td>False</td>\n",
       "      <td>False</td>\n",
       "      <td>False</td>\n",
       "      <td>False</td>\n",
       "      <td>False</td>\n",
       "      <td>False</td>\n",
       "      <td>False</td>\n",
       "      <td>True</td>\n",
       "      <td>False</td>\n",
       "      <td>False</td>\n",
       "    </tr>\n",
       "    <tr>\n",
       "      <th>...</th>\n",
       "      <td>...</td>\n",
       "      <td>...</td>\n",
       "      <td>...</td>\n",
       "      <td>...</td>\n",
       "      <td>...</td>\n",
       "      <td>...</td>\n",
       "      <td>...</td>\n",
       "      <td>...</td>\n",
       "      <td>...</td>\n",
       "      <td>...</td>\n",
       "      <td>...</td>\n",
       "      <td>...</td>\n",
       "    </tr>\n",
       "    <tr>\n",
       "      <th>9211</th>\n",
       "      <td>False</td>\n",
       "      <td>False</td>\n",
       "      <td>False</td>\n",
       "      <td>False</td>\n",
       "      <td>False</td>\n",
       "      <td>False</td>\n",
       "      <td>False</td>\n",
       "      <td>False</td>\n",
       "      <td>False</td>\n",
       "      <td>True</td>\n",
       "      <td>False</td>\n",
       "      <td>False</td>\n",
       "    </tr>\n",
       "    <tr>\n",
       "      <th>9212</th>\n",
       "      <td>False</td>\n",
       "      <td>False</td>\n",
       "      <td>False</td>\n",
       "      <td>False</td>\n",
       "      <td>False</td>\n",
       "      <td>False</td>\n",
       "      <td>False</td>\n",
       "      <td>True</td>\n",
       "      <td>False</td>\n",
       "      <td>True</td>\n",
       "      <td>False</td>\n",
       "      <td>False</td>\n",
       "    </tr>\n",
       "    <tr>\n",
       "      <th>9213</th>\n",
       "      <td>False</td>\n",
       "      <td>False</td>\n",
       "      <td>False</td>\n",
       "      <td>False</td>\n",
       "      <td>False</td>\n",
       "      <td>False</td>\n",
       "      <td>False</td>\n",
       "      <td>True</td>\n",
       "      <td>False</td>\n",
       "      <td>True</td>\n",
       "      <td>False</td>\n",
       "      <td>False</td>\n",
       "    </tr>\n",
       "    <tr>\n",
       "      <th>9214</th>\n",
       "      <td>False</td>\n",
       "      <td>False</td>\n",
       "      <td>False</td>\n",
       "      <td>False</td>\n",
       "      <td>False</td>\n",
       "      <td>False</td>\n",
       "      <td>False</td>\n",
       "      <td>False</td>\n",
       "      <td>False</td>\n",
       "      <td>False</td>\n",
       "      <td>False</td>\n",
       "      <td>False</td>\n",
       "    </tr>\n",
       "    <tr>\n",
       "      <th>9215</th>\n",
       "      <td>False</td>\n",
       "      <td>False</td>\n",
       "      <td>False</td>\n",
       "      <td>False</td>\n",
       "      <td>False</td>\n",
       "      <td>False</td>\n",
       "      <td>False</td>\n",
       "      <td>False</td>\n",
       "      <td>False</td>\n",
       "      <td>True</td>\n",
       "      <td>False</td>\n",
       "      <td>False</td>\n",
       "    </tr>\n",
       "  </tbody>\n",
       "</table>\n",
       "<p>9216 rows × 12 columns</p>\n",
       "</div>"
      ],
      "text/plain": [
       "      Patient Id  Patient Admission Date  Patient First Inital  \\\n",
       "0          False                   False                 False   \n",
       "1          False                   False                 False   \n",
       "2          False                   False                 False   \n",
       "3          False                   False                 False   \n",
       "4          False                   False                 False   \n",
       "...          ...                     ...                   ...   \n",
       "9211       False                   False                 False   \n",
       "9212       False                   False                 False   \n",
       "9213       False                   False                 False   \n",
       "9214       False                   False                 False   \n",
       "9215       False                   False                 False   \n",
       "\n",
       "      Patient Last Name  Patient Gender  Patient Age  Patient Race  \\\n",
       "0                 False           False        False         False   \n",
       "1                 False           False        False         False   \n",
       "2                 False           False        False         False   \n",
       "3                 False           False        False         False   \n",
       "4                 False           False        False         False   \n",
       "...                 ...             ...          ...           ...   \n",
       "9211              False           False        False         False   \n",
       "9212              False           False        False         False   \n",
       "9213              False           False        False         False   \n",
       "9214              False           False        False         False   \n",
       "9215              False           False        False         False   \n",
       "\n",
       "      Department Referral  Patient Admission Flag  Patient Satisfaction Score  \\\n",
       "0                    True                   False                       False   \n",
       "1                    True                   False                        True   \n",
       "2                   False                   False                       False   \n",
       "3                   False                   False                       False   \n",
       "4                   False                   False                        True   \n",
       "...                   ...                     ...                         ...   \n",
       "9211                False                   False                        True   \n",
       "9212                 True                   False                        True   \n",
       "9213                 True                   False                        True   \n",
       "9214                False                   False                       False   \n",
       "9215                False                   False                        True   \n",
       "\n",
       "      Patient Waittime  Patients CM  \n",
       "0                False        False  \n",
       "1                False        False  \n",
       "2                False        False  \n",
       "3                False        False  \n",
       "4                False        False  \n",
       "...                ...          ...  \n",
       "9211             False        False  \n",
       "9212             False        False  \n",
       "9213             False        False  \n",
       "9214             False        False  \n",
       "9215             False        False  \n",
       "\n",
       "[9216 rows x 12 columns]"
      ]
     },
     "execution_count": 6,
     "metadata": {},
     "output_type": "execute_result"
    }
   ],
   "source": [
    "df.isnull()"
   ]
  },
  {
   "cell_type": "code",
   "execution_count": 7,
   "id": "3c8e0727-18b5-4b49-80d9-29228a1d6d84",
   "metadata": {},
   "outputs": [
    {
     "data": {
      "text/plain": [
       "Patient Id                       0\n",
       "Patient Admission Date           0\n",
       "Patient First Inital             0\n",
       "Patient Last Name                0\n",
       "Patient Gender                   0\n",
       "Patient Age                      0\n",
       "Patient Race                     0\n",
       "Department Referral           5400\n",
       "Patient Admission Flag           0\n",
       "Patient Satisfaction Score    6699\n",
       "Patient Waittime                 0\n",
       "Patients CM                      0\n",
       "dtype: int64"
      ]
     },
     "execution_count": 7,
     "metadata": {},
     "output_type": "execute_result"
    }
   ],
   "source": [
    "df.isnull().sum()"
   ]
  },
  {
   "cell_type": "code",
   "execution_count": 8,
   "id": "72d952e8-4099-4641-b545-c9a282585e1b",
   "metadata": {},
   "outputs": [
    {
     "data": {
      "text/plain": [
       "<Axes: xlabel='count', ylabel='Patient Gender'>"
      ]
     },
     "execution_count": 8,
     "metadata": {},
     "output_type": "execute_result"
    },
    {
     "data": {
      "image/png": "[encoded data removed]",
      "text/plain": [
       "<Figure size 640x480 with 1 Axes>"
      ]
     },
     "metadata": {},
     "output_type": "display_data"
    }
   ],
   "source": [
    "sns.countplot(df['Patient Gender'])"
   ]
  },
  {
   "cell_type": "code",
   "execution_count": 9,
   "id": "4188bd42-d829-403a-80af-e0c16b54c869",
   "metadata": {},
   "outputs": [
    {
     "data": {
      "text/plain": [
       "<Axes: ylabel='Department Referral'>"
      ]
     },
     "execution_count": 9,
     "metadata": {},
     "output_type": "execute_result"
    },
    {
     "data": {
      "image/png": "[encoded data removed]",
      "text/plain": [
       "<Figure size 640x480 with 1 Axes>"
      ]
     },
     "metadata": {},
     "output_type": "display_data"
    }
   ],
   "source": [
    "sns.barplot(df['Department Referral'],color='olive')"
   ]
  },
  {
   "cell_type": "code",
   "execution_count": 82,
   "id": "60eb0bc8-e625-45ce-850f-7d2351a526df",
   "metadata": {},
   "outputs": [
    {
     "data": {
      "text/plain": [
       "<Axes: xlabel='Patient Satisfaction Score', ylabel='Patient Race'>"
      ]
     },
     "execution_count": 82,
     "metadata": {},
     "output_type": "execute_result"
    },
    {
     "data": {
      "image/png": "[encoded data removed]",
      "text/plain": [
       "<Figure size 640x480 with 1 Axes>"
      ]
     },
     "metadata": {},
     "output_type": "display_data"
    }
   ],
   "source": [
    "sns.boxplot(x='Patient Satisfaction Score',y='Patient Race',data=df)"
   ]
  },
  {
   "cell_type": "code",
   "execution_count": 84,
   "id": "7f2157be-8686-4b39-b622-73e7d61ed91a",
   "metadata": {},
   "outputs": [
    {
     "data": {
      "text/plain": [
       "<Axes: ylabel='Department Referral'>"
      ]
     },
     "execution_count": 84,
     "metadata": {},
     "output_type": "execute_result"
    },
    {
     "data": {
      "image/png": "[encoded data removed]",
      "text/plain": [
       "<Figure size 1000x500 with 1 Axes>"
      ]
     },
     "metadata": {},
     "output_type": "display_data"
    }
   ],
   "source": [
    "plt.figure(figsize=(10,5))\n",
    "sns.scatterplot(df['Department Referral'])"
   ]
  },
  {
   "cell_type": "code",
   "execution_count": 12,
   "id": "28362aa5-e267-4420-8668-421f8dbbf334",
   "metadata": {},
   "outputs": [
    {
     "data": {
      "text/plain": [
       "False"
      ]
     },
     "execution_count": 12,
     "metadata": {},
     "output_type": "execute_result"
    }
   ],
   "source": [
    "df.duplicated().any()"
   ]
  },
  {
   "cell_type": "code",
   "execution_count": 13,
   "id": "37bf1d1a-9b66-4d88-a5c2-c097c1758bc3",
   "metadata": {},
   "outputs": [
    {
     "data": {
      "text/plain": [
       "<Axes: >"
      ]
     },
     "execution_count": 13,
     "metadata": {},
     "output_type": "execute_result"
    },
    {
     "data": {
      "image/png": "[encoded data removed]",
      "text/plain": [
       "<Figure size 640x480 with 2 Axes>"
      ]
     },
     "metadata": {},
     "output_type": "display_data"
    }
   ],
   "source": [
    "sns.heatmap(df.isnull())"
   ]
  },
  {
   "cell_type": "code",
   "execution_count": 14,
   "id": "71f2b833-bfd9-4c5b-970d-41f1f2231924",
   "metadata": {},
   "outputs": [
    {
     "data": {
      "text/plain": [
       "Department Referral\n",
       "General Practice    1840\n",
       "Orthopedics          995\n",
       "Physiotherapy        276\n",
       "Cardiology           248\n",
       "Neurology            193\n",
       "Gastroenterology     178\n",
       "Renal                 86\n",
       "Name: count, dtype: int64"
      ]
     },
     "execution_count": 14,
     "metadata": {},
     "output_type": "execute_result"
    }
   ],
   "source": [
    "df['Department Referral'].value_counts()"
   ]
  },
  {
   "cell_type": "code",
   "execution_count": 15,
   "id": "463f958a-369c-4a7a-92cf-a2499b060f6d",
   "metadata": {},
   "outputs": [
    {
     "data": {
      "text/plain": [
       "Patient Gender\n",
       "M     4705\n",
       "F     4487\n",
       "NC      24\n",
       "Name: count, dtype: int64"
      ]
     },
     "execution_count": 15,
     "metadata": {},
     "output_type": "execute_result"
    }
   ],
   "source": [
    "df['Patient Gender'].value_counts()"
   ]
  },
  {
   "cell_type": "code",
   "execution_count": 16,
   "id": "d9f123f2-e035-43ec-8203-4ed5de21df11",
   "metadata": {},
   "outputs": [
    {
     "data": {
      "text/plain": [
       "Patient Race\n",
       "White                            2571\n",
       "African American                 1951\n",
       "Two or More Races                1557\n",
       "Asian                            1060\n",
       "Declined to Identify             1030\n",
       "Pacific Islander                  549\n",
       "Native American/Alaska Native     498\n",
       "Name: count, dtype: int64"
      ]
     },
     "execution_count": 16,
     "metadata": {},
     "output_type": "execute_result"
    }
   ],
   "source": [
    "df['Patient Race'].value_counts()"
   ]
  },
  {
   "cell_type": "code",
   "execution_count": 17,
   "id": "75c3684b-e16c-44ab-bb9b-b9a829ad48fb",
   "metadata": {},
   "outputs": [
    {
     "data": {
      "text/plain": [
       "Patient Admission Flag\n",
       "True     4612\n",
       "False    4604\n",
       "Name: count, dtype: int64"
      ]
     },
     "execution_count": 17,
     "metadata": {},
     "output_type": "execute_result"
    }
   ],
   "source": [
    "df['Patient Admission Flag'].value_counts()"
   ]
  },
  {
   "cell_type": "code",
   "execution_count": 18,
   "id": "7461a432-04bb-48e3-8d6b-eba7b0189c64",
   "metadata": {},
   "outputs": [
    {
     "data": {
      "text/plain": [
       "Patient Waittime\n",
       "30    217\n",
       "36    203\n",
       "47    201\n",
       "27    201\n",
       "55    200\n",
       "14    200\n",
       "45    197\n",
       "34    196\n",
       "58    196\n",
       "15    195\n",
       "33    193\n",
       "48    190\n",
       "11    189\n",
       "59    189\n",
       "49    188\n",
       "44    188\n",
       "25    187\n",
       "29    186\n",
       "56    186\n",
       "51    185\n",
       "43    185\n",
       "42    184\n",
       "40    184\n",
       "19    184\n",
       "60    183\n",
       "39    183\n",
       "53    183\n",
       "52    182\n",
       "32    182\n",
       "23    181\n",
       "57    181\n",
       "50    181\n",
       "22    180\n",
       "41    179\n",
       "20    176\n",
       "16    176\n",
       "17    170\n",
       "12    170\n",
       "54    170\n",
       "21    168\n",
       "10    167\n",
       "38    166\n",
       "37    164\n",
       "26    163\n",
       "24    162\n",
       "13    161\n",
       "18    159\n",
       "35    159\n",
       "28    157\n",
       "31    154\n",
       "46    135\n",
       "Name: count, dtype: int64"
      ]
     },
     "execution_count": 18,
     "metadata": {},
     "output_type": "execute_result"
    }
   ],
   "source": [
    "df['Patient Waittime'].value_counts()"
   ]
  },
  {
   "cell_type": "code",
   "execution_count": 19,
   "id": "031c7b59-0e30-44a5-acc9-46de6dca9578",
   "metadata": {},
   "outputs": [],
   "source": [
    "null_value=df.isnull().sum()*100/len(df)"
   ]
  },
  {
   "cell_type": "code",
   "execution_count": 20,
   "id": "be74db01-86bd-4b0f-986f-bbba9eaef385",
   "metadata": {},
   "outputs": [
    {
     "data": {
      "text/plain": [
       "Patient Id                     0.000000\n",
       "Patient Admission Date         0.000000\n",
       "Patient First Inital           0.000000\n",
       "Patient Last Name              0.000000\n",
       "Patient Gender                 0.000000\n",
       "Patient Age                    0.000000\n",
       "Patient Race                   0.000000\n",
       "Department Referral           58.593750\n",
       "Patient Admission Flag         0.000000\n",
       "Patient Satisfaction Score    72.688802\n",
       "Patient Waittime               0.000000\n",
       "Patients CM                    0.000000\n",
       "dtype: float64"
      ]
     },
     "execution_count": 20,
     "metadata": {},
     "output_type": "execute_result"
    }
   ],
   "source": [
    "null_value"
   ]
  },
  {
   "cell_type": "code",
   "execution_count": 21,
   "id": "b144599c-42c4-4d1f-a808-48c7dce85b7f",
   "metadata": {},
   "outputs": [],
   "source": [
    "df.dropna(inplace=True)"
   ]
  },
  {
   "cell_type": "code",
   "execution_count": 22,
   "id": "f1d5be72-67cc-4734-ae63-95d17466b2a6",
   "metadata": {},
   "outputs": [
    {
     "data": {
      "text/plain": [
       "<Axes: >"
      ]
     },
     "execution_count": 22,
     "metadata": {},
     "output_type": "execute_result"
    },
    {
     "data": {
      "image/png": "[encoded data removed]",
      "text/plain": [
       "<Figure size 640x480 with 2 Axes>"
      ]
     },
     "metadata": {},
     "output_type": "display_data"
    }
   ],
   "source": [
    "sns.heatmap(df.isnull())"
   ]
  },
  {
   "cell_type": "code",
   "execution_count": 23,
   "id": "3f9f5788-09f9-4378-93aa-6c03da7d2182",
   "metadata": {},
   "outputs": [
    {
     "data": {
      "text/plain": [
       "Patient Id                     object\n",
       "Patient Admission Date         object\n",
       "Patient First Inital           object\n",
       "Patient Last Name              object\n",
       "Patient Gender                 object\n",
       "Patient Age                     int64\n",
       "Patient Race                   object\n",
       "Department Referral            object\n",
       "Patient Admission Flag           bool\n",
       "Patient Satisfaction Score    float64\n",
       "Patient Waittime                int64\n",
       "Patients CM                     int64\n",
       "dtype: object"
      ]
     },
     "execution_count": 23,
     "metadata": {},
     "output_type": "execute_result"
    }
   ],
   "source": [
    "df.dtypes"
   ]
  },
  {
   "cell_type": "code",
   "execution_count": 24,
   "id": "93b8cfb7-7b63-4cb8-a39c-172c208701f3",
   "metadata": {},
   "outputs": [
    {
     "name": "stdout",
     "output_type": "stream",
     "text": [
      "Number of Rows 1077\n",
      "Number of Columns 12\n"
     ]
    }
   ],
   "source": [
    "print('Number of Rows',df.shape[0])\n",
    "print('Number of Columns',df.shape[1])"
   ]
  },
  {
   "cell_type": "code",
   "execution_count": 25,
   "id": "68723e1d-02c2-4455-8a80-0198f9273637",
   "metadata": {},
   "outputs": [
    {
     "data": {
      "text/html": [
       "<div>\n",
       "<style scoped>\n",
       "    .dataframe tbody tr th:only-of-type {\n",
       "        vertical-align: middle;\n",
       "    }\n",
       "\n",
       "    .dataframe tbody tr th {\n",
       "        vertical-align: top;\n",
       "    }\n",
       "\n",
       "    .dataframe thead th {\n",
       "        text-align: right;\n",
       "    }\n",
       "</style>\n",
       "<table border=\"1\" class=\"dataframe\">\n",
       "  <thead>\n",
       "    <tr style=\"text-align: right;\">\n",
       "      <th></th>\n",
       "      <th>Patient Id</th>\n",
       "      <th>Patient Admission Date</th>\n",
       "      <th>Patient First Inital</th>\n",
       "      <th>Patient Last Name</th>\n",
       "      <th>Patient Gender</th>\n",
       "      <th>Patient Age</th>\n",
       "      <th>Patient Race</th>\n",
       "      <th>Department Referral</th>\n",
       "      <th>Patient Admission Flag</th>\n",
       "      <th>Patient Satisfaction Score</th>\n",
       "      <th>Patient Waittime</th>\n",
       "      <th>Patients CM</th>\n",
       "    </tr>\n",
       "  </thead>\n",
       "  <tbody>\n",
       "    <tr>\n",
       "      <th>count</th>\n",
       "      <td>1077</td>\n",
       "      <td>1077</td>\n",
       "      <td>1077</td>\n",
       "      <td>1077</td>\n",
       "      <td>1077</td>\n",
       "      <td>1077.000000</td>\n",
       "      <td>1077</td>\n",
       "      <td>1077</td>\n",
       "      <td>1077</td>\n",
       "      <td>1077.000000</td>\n",
       "      <td>1077.000000</td>\n",
       "      <td>1077.000000</td>\n",
       "    </tr>\n",
       "    <tr>\n",
       "      <th>unique</th>\n",
       "      <td>1077</td>\n",
       "      <td>1075</td>\n",
       "      <td>26</td>\n",
       "      <td>1063</td>\n",
       "      <td>3</td>\n",
       "      <td>NaN</td>\n",
       "      <td>7</td>\n",
       "      <td>7</td>\n",
       "      <td>2</td>\n",
       "      <td>NaN</td>\n",
       "      <td>NaN</td>\n",
       "      <td>NaN</td>\n",
       "    </tr>\n",
       "    <tr>\n",
       "      <th>top</th>\n",
       "      <td>897-46-3852</td>\n",
       "      <td>16-05-2024 11:02</td>\n",
       "      <td>E</td>\n",
       "      <td>Haddeston</td>\n",
       "      <td>M</td>\n",
       "      <td>NaN</td>\n",
       "      <td>White</td>\n",
       "      <td>General Practice</td>\n",
       "      <td>False</td>\n",
       "      <td>NaN</td>\n",
       "      <td>NaN</td>\n",
       "      <td>NaN</td>\n",
       "    </tr>\n",
       "    <tr>\n",
       "      <th>freq</th>\n",
       "      <td>1</td>\n",
       "      <td>2</td>\n",
       "      <td>55</td>\n",
       "      <td>2</td>\n",
       "      <td>580</td>\n",
       "      <td>NaN</td>\n",
       "      <td>319</td>\n",
       "      <td>503</td>\n",
       "      <td>549</td>\n",
       "      <td>NaN</td>\n",
       "      <td>NaN</td>\n",
       "      <td>NaN</td>\n",
       "    </tr>\n",
       "    <tr>\n",
       "      <th>mean</th>\n",
       "      <td>NaN</td>\n",
       "      <td>NaN</td>\n",
       "      <td>NaN</td>\n",
       "      <td>NaN</td>\n",
       "      <td>NaN</td>\n",
       "      <td>39.810585</td>\n",
       "      <td>NaN</td>\n",
       "      <td>NaN</td>\n",
       "      <td>NaN</td>\n",
       "      <td>5.043640</td>\n",
       "      <td>34.938719</td>\n",
       "      <td>0.049211</td>\n",
       "    </tr>\n",
       "    <tr>\n",
       "      <th>std</th>\n",
       "      <td>NaN</td>\n",
       "      <td>NaN</td>\n",
       "      <td>NaN</td>\n",
       "      <td>NaN</td>\n",
       "      <td>NaN</td>\n",
       "      <td>22.785638</td>\n",
       "      <td>NaN</td>\n",
       "      <td>NaN</td>\n",
       "      <td>NaN</td>\n",
       "      <td>3.162711</td>\n",
       "      <td>15.085443</td>\n",
       "      <td>0.216408</td>\n",
       "    </tr>\n",
       "    <tr>\n",
       "      <th>min</th>\n",
       "      <td>NaN</td>\n",
       "      <td>NaN</td>\n",
       "      <td>NaN</td>\n",
       "      <td>NaN</td>\n",
       "      <td>NaN</td>\n",
       "      <td>1.000000</td>\n",
       "      <td>NaN</td>\n",
       "      <td>NaN</td>\n",
       "      <td>NaN</td>\n",
       "      <td>0.000000</td>\n",
       "      <td>10.000000</td>\n",
       "      <td>0.000000</td>\n",
       "    </tr>\n",
       "    <tr>\n",
       "      <th>25%</th>\n",
       "      <td>NaN</td>\n",
       "      <td>NaN</td>\n",
       "      <td>NaN</td>\n",
       "      <td>NaN</td>\n",
       "      <td>NaN</td>\n",
       "      <td>21.000000</td>\n",
       "      <td>NaN</td>\n",
       "      <td>NaN</td>\n",
       "      <td>NaN</td>\n",
       "      <td>2.000000</td>\n",
       "      <td>21.000000</td>\n",
       "      <td>0.000000</td>\n",
       "    </tr>\n",
       "    <tr>\n",
       "      <th>50%</th>\n",
       "      <td>NaN</td>\n",
       "      <td>NaN</td>\n",
       "      <td>NaN</td>\n",
       "      <td>NaN</td>\n",
       "      <td>NaN</td>\n",
       "      <td>39.000000</td>\n",
       "      <td>NaN</td>\n",
       "      <td>NaN</td>\n",
       "      <td>NaN</td>\n",
       "      <td>5.000000</td>\n",
       "      <td>36.000000</td>\n",
       "      <td>0.000000</td>\n",
       "    </tr>\n",
       "    <tr>\n",
       "      <th>75%</th>\n",
       "      <td>NaN</td>\n",
       "      <td>NaN</td>\n",
       "      <td>NaN</td>\n",
       "      <td>NaN</td>\n",
       "      <td>NaN</td>\n",
       "      <td>60.000000</td>\n",
       "      <td>NaN</td>\n",
       "      <td>NaN</td>\n",
       "      <td>NaN</td>\n",
       "      <td>8.000000</td>\n",
       "      <td>48.000000</td>\n",
       "      <td>0.000000</td>\n",
       "    </tr>\n",
       "    <tr>\n",
       "      <th>max</th>\n",
       "      <td>NaN</td>\n",
       "      <td>NaN</td>\n",
       "      <td>NaN</td>\n",
       "      <td>NaN</td>\n",
       "      <td>NaN</td>\n",
       "      <td>79.000000</td>\n",
       "      <td>NaN</td>\n",
       "      <td>NaN</td>\n",
       "      <td>NaN</td>\n",
       "      <td>10.000000</td>\n",
       "      <td>60.000000</td>\n",
       "      <td>1.000000</td>\n",
       "    </tr>\n",
       "  </tbody>\n",
       "</table>\n",
       "</div>"
      ],
      "text/plain": [
       "         Patient Id Patient Admission Date Patient First Inital  \\\n",
       "count          1077                   1077                 1077   \n",
       "unique         1077                   1075                   26   \n",
       "top     897-46-3852       16-05-2024 11:02                    E   \n",
       "freq              1                      2                   55   \n",
       "mean            NaN                    NaN                  NaN   \n",
       "std             NaN                    NaN                  NaN   \n",
       "min             NaN                    NaN                  NaN   \n",
       "25%             NaN                    NaN                  NaN   \n",
       "50%             NaN                    NaN                  NaN   \n",
       "75%             NaN                    NaN                  NaN   \n",
       "max             NaN                    NaN                  NaN   \n",
       "\n",
       "       Patient Last Name Patient Gender  Patient Age Patient Race  \\\n",
       "count               1077           1077  1077.000000         1077   \n",
       "unique              1063              3          NaN            7   \n",
       "top            Haddeston              M          NaN        White   \n",
       "freq                   2            580          NaN          319   \n",
       "mean                 NaN            NaN    39.810585          NaN   \n",
       "std                  NaN            NaN    22.785638          NaN   \n",
       "min                  NaN            NaN     1.000000          NaN   \n",
       "25%                  NaN            NaN    21.000000          NaN   \n",
       "50%                  NaN            NaN    39.000000          NaN   \n",
       "75%                  NaN            NaN    60.000000          NaN   \n",
       "max                  NaN            NaN    79.000000          NaN   \n",
       "\n",
       "       Department Referral Patient Admission Flag  Patient Satisfaction Score  \\\n",
       "count                 1077                   1077                 1077.000000   \n",
       "unique                   7                      2                         NaN   \n",
       "top       General Practice                  False                         NaN   \n",
       "freq                   503                    549                         NaN   \n",
       "mean                   NaN                    NaN                    5.043640   \n",
       "std                    NaN                    NaN                    3.162711   \n",
       "min                    NaN                    NaN                    0.000000   \n",
       "25%                    NaN                    NaN                    2.000000   \n",
       "50%                    NaN                    NaN                    5.000000   \n",
       "75%                    NaN                    NaN                    8.000000   \n",
       "max                    NaN                    NaN                   10.000000   \n",
       "\n",
       "        Patient Waittime  Patients CM  \n",
       "count        1077.000000  1077.000000  \n",
       "unique               NaN          NaN  \n",
       "top                  NaN          NaN  \n",
       "freq                 NaN          NaN  \n",
       "mean           34.938719     0.049211  \n",
       "std            15.085443     0.216408  \n",
       "min            10.000000     0.000000  \n",
       "25%            21.000000     0.000000  \n",
       "50%            36.000000     0.000000  \n",
       "75%            48.000000     0.000000  \n",
       "max            60.000000     1.000000  "
      ]
     },
     "execution_count": 25,
     "metadata": {},
     "output_type": "execute_result"
    }
   ],
   "source": [
    "df.describe(include='all')"
   ]
  },
  {
   "cell_type": "code",
   "execution_count": 26,
   "id": "cceb4cc2-7a24-4581-b965-4321524ca87a",
   "metadata": {},
   "outputs": [
    {
     "name": "stdout",
     "output_type": "stream",
     "text": [
      "<class 'pandas.core.frame.DataFrame'>\n",
      "Index: 1077 entries, 2 to 9214\n",
      "Data columns (total 12 columns):\n",
      " #   Column                      Non-Null Count  Dtype  \n",
      "---  ------                      --------------  -----  \n",
      " 0   Patient Id                  1077 non-null   object \n",
      " 1   Patient Admission Date      1077 non-null   object \n",
      " 2   Patient First Inital        1077 non-null   object \n",
      " 3   Patient Last Name           1077 non-null   object \n",
      " 4   Patient Gender              1077 non-null   object \n",
      " 5   Patient Age                 1077 non-null   int64  \n",
      " 6   Patient Race                1077 non-null   object \n",
      " 7   Department Referral         1077 non-null   object \n",
      " 8   Patient Admission Flag      1077 non-null   bool   \n",
      " 9   Patient Satisfaction Score  1077 non-null   float64\n",
      " 10  Patient Waittime            1077 non-null   int64  \n",
      " 11  Patients CM                 1077 non-null   int64  \n",
      "dtypes: bool(1), float64(1), int64(3), object(7)\n",
      "memory usage: 102.0+ KB\n"
     ]
    }
   ],
   "source": [
    "df.info()"
   ]
  },
  {
   "cell_type": "code",
   "execution_count": 27,
   "id": "65f52c3c-747d-4937-9f10-09b36058bcca",
   "metadata": {},
   "outputs": [
    {
     "data": {
      "text/plain": [
       "Index(['Patient Id', 'Patient Admission Date', 'Patient First Inital',\n",
       "       'Patient Last Name', 'Patient Gender', 'Patient Age', 'Patient Race',\n",
       "       'Department Referral', 'Patient Admission Flag',\n",
       "       'Patient Satisfaction Score', 'Patient Waittime', 'Patients CM'],\n",
       "      dtype='object')"
      ]
     },
     "execution_count": 27,
     "metadata": {},
     "output_type": "execute_result"
    }
   ],
   "source": [
    "df.columns"
   ]
  },
  {
   "cell_type": "code",
   "execution_count": 78,
   "id": "7af7ce65-6906-4ba8-9bc8-38b8695d55f6",
   "metadata": {
    "scrolled": true
   },
   "outputs": [
    {
     "data": {
      "text/plain": [
       "<Axes: >"
      ]
     },
     "execution_count": 78,
     "metadata": {},
     "output_type": "execute_result"
    },
    {
     "data": {
      "image/png": "[encoded data removed]",
      "text/plain": [
       "<Figure size 1500x500 with 1 Axes>"
      ]
     },
     "metadata": {},
     "output_type": "display_data"
    }
   ],
   "source": [
    "plt.figure(figsize=(15,5))\n",
    "df['Patient Age'].hist()\n"
   ]
  },
  {
   "cell_type": "code",
   "execution_count": 74,
   "id": "642fecba-323e-4a67-bfab-b7aec40e916d",
   "metadata": {},
   "outputs": [
    {
     "data": {
      "text/plain": [
       "<Axes: xlabel='Patient Gender', ylabel='Patient Age'>"
      ]
     },
     "execution_count": 74,
     "metadata": {},
     "output_type": "execute_result"
    },
    {
     "data": {
      "image/png": "[encoded data removed]",
      "text/plain": [
       "<Figure size 640x480 with 1 Axes>"
      ]
     },
     "metadata": {},
     "output_type": "display_data"
    }
   ],
   "source": [
    "sns.boxplot(x='Patient Gender',y='Patient Age',data=df)"
   ]
  },
  {
   "cell_type": "code",
   "execution_count": 68,
   "id": "ee5bee85-99f6-48a1-b9ff-1d243ce26cec",
   "metadata": {},
   "outputs": [
    {
     "data": {
      "text/plain": [
       "<Axes: >"
      ]
     },
     "execution_count": 68,
     "metadata": {},
     "output_type": "execute_result"
    },
    {
     "data": {
      "image/png": "[encoded data removed]",
      "text/plain": [
       "<Figure size 1000x500 with 1 Axes>"
      ]
     },
     "metadata": {},
     "output_type": "display_data"
    }
   ],
   "source": [
    "plt.figure(figsize=(10,5))\n",
    "df['Department Referral'].hist()"
   ]
  },
  {
   "cell_type": "code",
   "execution_count": null,
   "id": "316a53cb-9c7b-4037-9fa8-924584f6ef1e",
   "metadata": {},
   "outputs": [],
   "source": []
  }
 ],
 "metadata": {
  "kernelspec": {
   "display_name": "Python 3 (ipykernel)",
   "language": "python",
   "name": "python3"
  },
  "language_info": {
   "codemirror_mode": {
    "name": "ipython",
    "version": 3
   },
   "file_extension": ".py",
   "mimetype": "text/x-python",
   "name": "python",
   "nbconvert_exporter": "python",
   "pygments_lexer": "ipython3",
   "version": "3.12.4"
  }
 },
 "nbformat": 4,
 "nbformat_minor": 5
}
